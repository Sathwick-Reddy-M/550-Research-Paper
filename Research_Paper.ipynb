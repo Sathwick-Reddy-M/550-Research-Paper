{
  "nbformat": 4,
  "nbformat_minor": 0,
  "metadata": {
    "colab": {
      "provenance": [],
      "collapsed_sections": [
        "OtmjFw3BazpE"
      ],
      "mount_file_id": "14NgftfAfsSv7lFodxy5yPmR4C7xneWiW",
      "authorship_tag": "ABX9TyOZZfmJTQqW8ZWgUsDmhr0n",
      "include_colab_link": true
    },
    "kernelspec": {
      "name": "python3",
      "display_name": "Python 3"
    },
    "language_info": {
      "name": "python"
    }
  },
  "cells": [
    {
      "cell_type": "markdown",
      "metadata": {
        "id": "view-in-github",
        "colab_type": "text"
      },
      "source": [
        "<a href=\"https://colab.research.google.com/github/Sathwick-Reddy-M/550-Research-Paper/blob/main/Research_Paper.ipynb\" target=\"_parent\"><img src=\"https://colab.research.google.com/assets/colab-badge.svg\" alt=\"Open In Colab\"/></a>"
      ]
    },
    {
      "cell_type": "code",
      "execution_count": 1,
      "metadata": {
        "id": "Q3EN2fO92ew9"
      },
      "outputs": [],
      "source": [
        "import numpy as np\n",
        "import pandas as pd\n",
        "import re"
      ]
    },
    {
      "cell_type": "code",
      "source": [
        "%cd \"/content/drive/MyDrive/550/Research Paper/fnc-1/\""
      ],
      "metadata": {
        "colab": {
          "base_uri": "https://localhost:8080/"
        },
        "id": "qVu0AnGvfFAt",
        "outputId": "cdf5065d-e8f2-4a80-a50a-189c08b0f228"
      },
      "execution_count": 2,
      "outputs": [
        {
          "output_type": "stream",
          "name": "stdout",
          "text": [
            "/content/drive/MyDrive/550/Research Paper/fnc-1\n"
          ]
        }
      ]
    },
    {
      "cell_type": "markdown",
      "source": [
        "# Dataset Analysis"
      ],
      "metadata": {
        "id": "Sn2daPOe7KGD"
      }
    },
    {
      "cell_type": "code",
      "source": [
        "# Load the data\n",
        "\n",
        "train_bodies = pd.read_csv('train_bodies.csv')\n",
        "train_stances = pd.read_csv('train_stances.csv')"
      ],
      "metadata": {
        "id": "t0HVGTig5g6F"
      },
      "execution_count": 3,
      "outputs": []
    },
    {
      "cell_type": "code",
      "source": [
        "merged_data = pd.merge(train_stances, train_bodies, on='Body ID')"
      ],
      "metadata": {
        "id": "mWMUpu9efLdW"
      },
      "execution_count": 4,
      "outputs": []
    },
    {
      "cell_type": "markdown",
      "source": [
        "## Row Counts and Values"
      ],
      "metadata": {
        "id": "uO6Bhue0rQEd"
      }
    },
    {
      "cell_type": "code",
      "source": [
        "train_bodies.info()"
      ],
      "metadata": {
        "colab": {
          "base_uri": "https://localhost:8080/"
        },
        "id": "qab_nzCnn3yS",
        "outputId": "91a29146-720a-43ca-ce9e-a0192f7424d5"
      },
      "execution_count": null,
      "outputs": [
        {
          "output_type": "stream",
          "name": "stdout",
          "text": [
            "<class 'pandas.core.frame.DataFrame'>\n",
            "RangeIndex: 1683 entries, 0 to 1682\n",
            "Data columns (total 2 columns):\n",
            " #   Column       Non-Null Count  Dtype \n",
            "---  ------       --------------  ----- \n",
            " 0   Body ID      1683 non-null   int64 \n",
            " 1   articleBody  1683 non-null   object\n",
            "dtypes: int64(1), object(1)\n",
            "memory usage: 26.4+ KB\n"
          ]
        }
      ]
    },
    {
      "cell_type": "markdown",
      "source": [
        "It has 1683 article bodies"
      ],
      "metadata": {
        "id": "TG17z377su0x"
      }
    },
    {
      "cell_type": "code",
      "source": [
        "train_stances.info()"
      ],
      "metadata": {
        "colab": {
          "base_uri": "https://localhost:8080/"
        },
        "id": "j5aE-Iz2qcT3",
        "outputId": "ac086aa2-080a-49c0-f6a8-b1330e336cac"
      },
      "execution_count": null,
      "outputs": [
        {
          "output_type": "stream",
          "name": "stdout",
          "text": [
            "<class 'pandas.core.frame.DataFrame'>\n",
            "RangeIndex: 49972 entries, 0 to 49971\n",
            "Data columns (total 3 columns):\n",
            " #   Column    Non-Null Count  Dtype \n",
            "---  ------    --------------  ----- \n",
            " 0   Headline  49972 non-null  object\n",
            " 1   Body ID   49972 non-null  int64 \n",
            " 2   Stance    49972 non-null  object\n",
            "dtypes: int64(1), object(2)\n",
            "memory usage: 1.1+ MB\n"
          ]
        }
      ]
    },
    {
      "cell_type": "code",
      "source": [
        "merged_data.info()"
      ],
      "metadata": {
        "colab": {
          "base_uri": "https://localhost:8080/"
        },
        "id": "7_LhQ2QFqfF9",
        "outputId": "8950d908-3deb-4d5a-fe52-7466b4b693b7"
      },
      "execution_count": null,
      "outputs": [
        {
          "output_type": "stream",
          "name": "stdout",
          "text": [
            "<class 'pandas.core.frame.DataFrame'>\n",
            "RangeIndex: 49972 entries, 0 to 49971\n",
            "Data columns (total 4 columns):\n",
            " #   Column       Non-Null Count  Dtype \n",
            "---  ------       --------------  ----- \n",
            " 0   Headline     49972 non-null  object\n",
            " 1   Body ID      49972 non-null  int64 \n",
            " 2   Stance       49972 non-null  object\n",
            " 3   articleBody  49972 non-null  object\n",
            "dtypes: int64(1), object(3)\n",
            "memory usage: 1.5+ MB\n"
          ]
        }
      ]
    },
    {
      "cell_type": "code",
      "source": [
        "# Find the number of distinct Headline and BodyID\n",
        "num_distinct_headlines = merged_data['Headline'].nunique()\n",
        "num_distinct_body_ids = merged_data['Body ID'].nunique()\n",
        "\n",
        "# Print the results\n",
        "print(\"Number of distinct Headlines:\", num_distinct_headlines)\n",
        "print(\"Number of distinct Body IDs:\", num_distinct_body_ids)"
      ],
      "metadata": {
        "colab": {
          "base_uri": "https://localhost:8080/"
        },
        "id": "giWmoc5QuDPD",
        "outputId": "b83b2dfe-7853-42b9-ee5f-b4c15cd26a46"
      },
      "execution_count": null,
      "outputs": [
        {
          "output_type": "stream",
          "name": "stdout",
          "text": [
            "Number of distinct Headlines: 1648\n",
            "Number of distinct Body IDs: 1683\n"
          ]
        }
      ]
    },
    {
      "cell_type": "code",
      "source": [
        "# Calculate the distribution of stance classes\n",
        "stance_counts = merged_data['Stance'].value_counts()\n",
        "stance_distribution = stance_counts / stance_counts.sum()\n",
        "\n",
        "# Combine original counts and normalized counts into a DataFrame\n",
        "distribution_df = pd.concat([stance_counts, stance_distribution], axis=1)\n",
        "distribution_df.columns = ['Original Counts', 'Normalized Counts']\n",
        "\n",
        "# Print the distribution\n",
        "print(\"Stance Distribution:\")\n",
        "print(distribution_df)"
      ],
      "metadata": {
        "colab": {
          "base_uri": "https://localhost:8080/"
        },
        "id": "pbuz9z3Zqhi2",
        "outputId": "5756e279-523b-4842-e907-bed6669fd9de"
      },
      "execution_count": null,
      "outputs": [
        {
          "output_type": "stream",
          "name": "stdout",
          "text": [
            "Stance Distribution:\n",
            "           Original Counts  Normalized Counts\n",
            "Stance                                       \n",
            "unrelated            36545           0.731310\n",
            "discuss               8909           0.178280\n",
            "agree                 3678           0.073601\n",
            "disagree               840           0.016809\n"
          ]
        }
      ]
    },
    {
      "cell_type": "code",
      "source": [
        "# Define a regex pattern to match any character that is not a letter or whitespace\n",
        "pattern = r'[^a-zA-Z\\s]'\n",
        "\n",
        "# Filter the dataframe to get distinct headlines that match the pattern\n",
        "distinct_headlines_with_numbers_or_special_chars = merged_data[merged_data['Headline'].str.contains(pattern)]['Headline'].unique()\n",
        "\n",
        "# Print the distinct headlines\n",
        "print(\"Distinct Headlines containing numbers or special characters:\")\n",
        "print(distinct_headlines_with_numbers_or_special_chars)"
      ],
      "metadata": {
        "colab": {
          "base_uri": "https://localhost:8080/"
        },
        "id": "RjMjK_3IsRLr",
        "outputId": "642da439-5a30-4c79-fd75-705d80531025"
      },
      "execution_count": null,
      "outputs": [
        {
          "output_type": "stream",
          "name": "stdout",
          "text": [
            "Distinct Headlines containing numbers or special characters:\n",
            "[\"Police find mass graves with at least '15 bodies' near Mexico town where 43 students disappeared after police clash\"\n",
            " 'Seth Rogen to Play Apple’s Steve Wozniak'\n",
            " 'Mexico police find mass grave near site 43 students vanished' ...\n",
            " 'Apple is limiting features on the Apple Watch to save battery life, according to developers'\n",
            " 'Mom Calls 911 On Masturbating Teenage Son; Boy Arrested, Charged With New ‘Self-Rape’ State Law'\n",
            " \"Sushi lover's entire body left riddled with WORMS after eating contaminated sashimi\"]\n"
          ]
        }
      ]
    },
    {
      "cell_type": "code",
      "source": [
        "# Define a regex pattern to match any character that is not a letter or whitespace\n",
        "pattern = r'[^a-zA-Z\\s]'\n",
        "\n",
        "# Filter the dataframe to get distinct bodies that match the pattern\n",
        "distinct_bodies_with_numbers_or_special_chars = merged_data[merged_data['articleBody'].str.contains(pattern)]['articleBody'].unique()\n",
        "\n",
        "# Print the distinct bodies\n",
        "print(\"Distinct Bodies containing numbers or special characters:\")\n",
        "print(distinct_bodies_with_numbers_or_special_chars)"
      ],
      "metadata": {
        "colab": {
          "base_uri": "https://localhost:8080/"
        },
        "id": "NW650l50x9Mq",
        "outputId": "48a0269a-23ce-4fe6-87e0-9c6dc5d65daf"
      },
      "execution_count": null,
      "outputs": [
        {
          "output_type": "stream",
          "name": "stdout",
          "text": [
            "Distinct Bodies containing numbers or special characters:\n",
            "['Danny Boyle is directing the untitled film\\r\\n\\r\\nSeth Rogen is being eyed to play Apple co-founder Steve Wozniak in Sony’s Steve Jobs biopic.\\r\\n\\r\\nDanny Boyle is directing the untitled film, based on Walter Isaacson\\'s book and adapted by Aaron Sorkin, which is one of the most anticipated biopics in recent years.\\r\\n\\r\\nNegotiations have not yet begun, and it’s not even clear if Rogen has an official offer, but the producers — Scott Rudin, Guymon Casady and Mark Gordon — have set their sights on the talent and are in talks.\\r\\n\\r\\nOf course, this may all be for naught as Christian Bale, the actor who is to play Jobs, is still in the midst of closing his deal. Sources say that dealmaking process is in a sensitive stage.\\r\\n\\r\\nInsiders say Boyle will is flying to Los Angeles to meet with actress to play one of the female leads, an assistant to Jobs. Insiders say that Jessica Chastain is one of the actresses on the meeting list.\\r\\n\\r\\nWozniak, known as \"Woz,\" co-founded Apple with Jobs and Ronald Wayne. He first met Jobs when they worked at Atari and later was responsible for creating the early Apple computers.'\n",
            " \"Hundreds of Palestinians were evacuated from their homes Sunday morning after Israeli authorities opened a number of dams near the border, flooding the Gaza Valley in the wake of a recent severe winter storm.\\r\\n\\r\\nThe Gaza Ministry of Interior said in a statement that civil defense services and teams from the Ministry of Public Works had evacuated more than 80 families from both sides of the Gaza Valley (Wadi Gaza) after their homes flooded as water levels reached more than three meters.\\r\\n\\r\\nGaza has experienced flooding in recent days amid a major storm that saw temperatures drop and frigid rain pour down.\\r\\n\\r\\nThe storm displaced dozens and caused hardship for tens of thousands, including many of the approximately 110,000 Palestinians left homeless by Israel's assault over summer.\\r\\n\\r\\nThe suffering is compounded by the fact that Israel has maintained a complete siege over Gaza for the last eight years, severely limiting electricity and the availability of fuel for generators. It has also prevented the displaced from rebuilding their homes, as construction materials are largely banned from entering.\\r\\n\\r\\nGaza civil defense services spokesman Muhammad al-Midana warned that further harm could be caused if Israel opens up more dams in the area, noting that water is currently flowing at a high speed from the Israel border through the valley and into the Mediterranean sea.\\r\\n\\r\\nEvacuated families have been sent to shelters sponsored by UNRWA, the UN agency for Palestinian refugees, in al-Bureij refugee camp and in al-Zahra neighborhood in the central Gaza Strip.\\r\\n\\r\\nThe Gaza Valley (Wadi Gaza) is a wetland located in the central Gaza Strip between al-Nuseirat refugee camp and al-Moghraqa. It is called HaBesor in Hebrew, and it flows from two streams -- one whose source runs from near Beersheba, and the other from near Hebron.\\r\\n\\r\\nIsraeli dams on the river to collect rainwater have dried up the wetlands inside Gaza, and destroyed the only source of surface water in the area.\\r\\n\\r\\nLocals have continued to use it to dispose of their waste for lack of other ways to do so, however, creating an environmental hazard.\\r\\n\\r\\nThis is not the first time Israeli authorities have opened the Gaza Valley dams.\\r\\n\\r\\nIn Dec. 2013, Israeli authorities also opened the dams amid heavy flooding in the Gaza Strip. The resulting floods damaged dozens of homes and forces many families in the area from their homes.\\r\\n\\r\\nIn 2010, the dams were opened as well, forcing 100 families from their homes. At the time civil defense services said that they had managed to save seven people who had been at risk of drowning.\"\n",
            " '30-year-old Moscow resident was hospitalized with wounds very intimate nature. As it became known LifeNews, in the hands of doctors, the man complained that his casual acquaintance opoila in the sauna, and then gently held his castration operation. And actions criminals were executed with surgical precision - woman sewed all the smallest blood vessels.\\r\\n\\r\\n\\r\\n\\r\\n- I met a girl at the bar, and then we went to the sauna for a taxi. I remember that I had a beer, and more do not remember, - said Roman law enforcement officials.\\r\\n\\r\\nAt the hospital, the man hours spent in intensive care, doctors were forced to spend a second operation on the testicles.\\r\\n\\r\\n- I thought I had just cut, but at the hospital they told me that I removed the testicles - told Roman about his sad adventures.\\r\\n\\r\\n- The patient had literally jewelry operation - he cut out eggs and ligated vessels. We can say that the transactions were either physician or veterinarian - doctors say.\\r\\n\\r\\nInterestingly, the wife of the injured man is still convinced that her husband was in the hospital because of surgery on the genitals caused by a serious illness.'\n",
            " ...\n",
            " 'A realistic-looking fake BBC News website has been set up carrying conspiracy theories about the Charlie Hebdo massacre.\\r\\n\\r\\nA story, headlined: “Doubts raised over Charlie Hebo footage”, appears on the website domain bbc-news.co.uk.\\r\\n\\r\\nThe rest of the BBC website furniture on the page looks genuine and the links to other BBC content work.\\r\\n\\r\\nBut the story and video are about a conspiracy theory that the widely broadcast amateur video footage showing the killing of a Paris policeman was faked.\\r\\n\\r\\nThe story also claims that the Charlie Hebdo attack was a “false flag” operation perpetrated by Western intelligence.\\r\\n\\r\\nAccording to internet registry company Nominet, the bbc-news.co.uk internet domain was registered on 28 December 2014.\\r\\n\\r\\nThe fake BBC News site site also carries a faked a video news report purporting to be produced by the BBC which has been posted to Youtube.\\r\\n\\r\\nTags:'\n",
            " 'The health-focused smartwatch that Apple initially envisioned is not the same one the company will unveil next month, according to a new report.\\r\\n\\r\\nApple\\'s original concept for the Apple Watch was one that would track blood pressure, heart activity, stress levels and other functions, the Wall Street Journal reported Monday, citing sources familiar with the device. But none of those features will make it into the final product due to a variety of issues, according to the Journal. Some features didn\\'t work properly. Others proved too complex. And some would have required regulatory approval. As such, Apple was forced to scale back the range and depth of health features for its first entry into the smartwatch arena, the sources said.\\r\\n\\r\\nDue out in April, the Apple Watch will enter an already crowded playing field, competing with products from Samsung, Sony, Motorola, Microsoft, LG and others. It\\'s been thought that Apple postponed its release of a smartwatch at least in part to perfect the health and fitness monitoring features. But if the Journal\\'s sources are correct, some of those features proved more challenging than expected.\\r\\n\\r\\nFor example, the Journal reported, Apple tested sensors to measure skin conductivity, which would have helped monitor stress levels and heart rate. But the sensors ran into inconsistencies with different people, such as those with hairy arms or dry skin, and the results were mixed based on how tightly you wore the watch, according to the Journal\\'s sources.\\r\\n\\r\\nApple also tested ways to check blood pressure and the level of oxygen in the blood, but again, the results were inconsistent. Further, if those features strayed into the area of actually providing medical advice, they would have required approval from the Food and Drug Administration -- something Apple was trying to avoid.\\r\\n\\r\\nThe difficulties in creating a smartwatch with such features prompted people at Apple to dub the project a \"black hole\" as it sucked in more and more resources, one of the sources said.\\r\\n\\r\\nAs a result, Apple has been touting its first smartwatch as more of an all-purpose wearable. Yes, several key health and fitness features will be available and useful, especially as third-party developers create apps to tap into that market. But Apple is also busy promoting other aspects of the watch, including its variety of styles, its ability to act as an adjunct to the iPhone, its support for Apple Pay and its voice-activated controls.\\r\\n\\r\\nWill those features and the Apple name convince enough consumers to consider the Apple Watch over the competition? In December, Piper Jaffray analyst Gene Munster projected unit sales of 8 million for 2015. Wall Street has been forecasting sales of 12 million to 15 million. Apple has reportedly asked its suppliers to manufacture 5 million to 6 million watches for its first quarter of release.\\r\\n\\r\\nWhether initial sales are as healthy as expected, Apple will certainly come out with future models. Those could even include some of the health features that didn\\'t pass muster the first time around, the Journal\\'s sources added.\\r\\n\\r\\nAn Apple spokeswoman told CNET that the company declined to comment on rumor or speculation.'\n",
            " 'We still don’t know the exact date the Apple Watch will ship, but a new rumor claims you won’t be able to pick one up at BestBuy, Walmart, or other non-Apple Stores at launch.\\r\\n\\r\\nApple plans to make its timepiece an Apple Store exclusive, according to German distribution sources who claim resellers will be shut out so Cupertino can suck up as much Apple Watch profits in the first year as possible.\\r\\n\\r\\nWe can’t verify the sources, so the rumor should be taken with some healthy skepticism, however, we’ve already heard rumblings that Apple is redesigning Apple Stores just for the Apple Watch launch. Leaning on Apple Store to provide the best possible sales experience during the introductory year would make sense.\\r\\n\\r\\nThe Online Apple Store will also sell the wearable. Vaults will supposedly be added to Apple Stores to keep the pricey gold Apple Watches secure. Stores will also have glass viewing cases for the expensive models. Customers will be able to ask specialists to try the different models on, while smaller tables are also supposedly planned so that the Apple Watch Sport and others are better staged.\\r\\n\\r\\nApple most likely wants to keep the selling experience on its terms until people are more familiar with what an Apple Watch is. The iPhone was exclusively available at Apple Stores and carriers before distribution deals were later struck with Best Buy, Walmart, Target and others.\\r\\n\\r\\nTim Cook revealed the Apple Watch will ship in April. The exact pricing for Apple Watch an Edition models, as well as launch details, are expected to be announced at an event in March.']\n"
          ]
        }
      ]
    },
    {
      "cell_type": "code",
      "source": [
        "len(distinct_bodies_with_numbers_or_special_chars)"
      ],
      "metadata": {
        "colab": {
          "base_uri": "https://localhost:8080/"
        },
        "id": "ZduCfAMGyJ5G",
        "outputId": "1087e4c6-b271-4d9a-d6da-dc90b39f2ce2"
      },
      "execution_count": null,
      "outputs": [
        {
          "output_type": "execute_result",
          "data": {
            "text/plain": [
              "1666"
            ]
          },
          "metadata": {},
          "execution_count": 30
        }
      ]
    },
    {
      "cell_type": "markdown",
      "source": [
        "It's better not remove the digits because they hold the meaning some of the headlines. But we can just ignore the special characters anyway because they don't help much in the identification of the relation between the headline and body"
      ],
      "metadata": {
        "id": "MIsWGJDJxmLv"
      }
    },
    {
      "cell_type": "markdown",
      "source": [
        "## Analysing the Merged Data"
      ],
      "metadata": {
        "id": "ObIEW05iYai6"
      }
    },
    {
      "cell_type": "code",
      "source": [
        "merged_data.head()"
      ],
      "metadata": {
        "colab": {
          "base_uri": "https://localhost:8080/",
          "height": 206
        },
        "id": "IDvvHnr_nwlI",
        "outputId": "0cca1a90-778f-4f22-de17-2265fd41116e"
      },
      "execution_count": 35,
      "outputs": [
        {
          "output_type": "execute_result",
          "data": {
            "text/plain": [
              "                                            Headline  Body ID     Stance  \\\n",
              "0  Police find mass graves with at least '15 bodi...      712  unrelated   \n",
              "1           Seth Rogen to Play Apple’s Steve Wozniak      712    discuss   \n",
              "2  Mexico police find mass grave near site 43 stu...      712  unrelated   \n",
              "3  Mexico Says Missing Students Not Found In Firs...      712  unrelated   \n",
              "4  New iOS 8 bug can delete all of your iCloud do...      712  unrelated   \n",
              "\n",
              "                                         articleBody  \n",
              "0  Danny Boyle is directing the untitled film\\r\\n...  \n",
              "1  Danny Boyle is directing the untitled film\\r\\n...  \n",
              "2  Danny Boyle is directing the untitled film\\r\\n...  \n",
              "3  Danny Boyle is directing the untitled film\\r\\n...  \n",
              "4  Danny Boyle is directing the untitled film\\r\\n...  "
            ],
            "text/html": [
              "\n",
              "  <div id=\"df-aec8992c-aa45-43d7-a349-685d56816c59\" class=\"colab-df-container\">\n",
              "    <div>\n",
              "<style scoped>\n",
              "    .dataframe tbody tr th:only-of-type {\n",
              "        vertical-align: middle;\n",
              "    }\n",
              "\n",
              "    .dataframe tbody tr th {\n",
              "        vertical-align: top;\n",
              "    }\n",
              "\n",
              "    .dataframe thead th {\n",
              "        text-align: right;\n",
              "    }\n",
              "</style>\n",
              "<table border=\"1\" class=\"dataframe\">\n",
              "  <thead>\n",
              "    <tr style=\"text-align: right;\">\n",
              "      <th></th>\n",
              "      <th>Headline</th>\n",
              "      <th>Body ID</th>\n",
              "      <th>Stance</th>\n",
              "      <th>articleBody</th>\n",
              "    </tr>\n",
              "  </thead>\n",
              "  <tbody>\n",
              "    <tr>\n",
              "      <th>0</th>\n",
              "      <td>Police find mass graves with at least '15 bodi...</td>\n",
              "      <td>712</td>\n",
              "      <td>unrelated</td>\n",
              "      <td>Danny Boyle is directing the untitled film\\r\\n...</td>\n",
              "    </tr>\n",
              "    <tr>\n",
              "      <th>1</th>\n",
              "      <td>Seth Rogen to Play Apple’s Steve Wozniak</td>\n",
              "      <td>712</td>\n",
              "      <td>discuss</td>\n",
              "      <td>Danny Boyle is directing the untitled film\\r\\n...</td>\n",
              "    </tr>\n",
              "    <tr>\n",
              "      <th>2</th>\n",
              "      <td>Mexico police find mass grave near site 43 stu...</td>\n",
              "      <td>712</td>\n",
              "      <td>unrelated</td>\n",
              "      <td>Danny Boyle is directing the untitled film\\r\\n...</td>\n",
              "    </tr>\n",
              "    <tr>\n",
              "      <th>3</th>\n",
              "      <td>Mexico Says Missing Students Not Found In Firs...</td>\n",
              "      <td>712</td>\n",
              "      <td>unrelated</td>\n",
              "      <td>Danny Boyle is directing the untitled film\\r\\n...</td>\n",
              "    </tr>\n",
              "    <tr>\n",
              "      <th>4</th>\n",
              "      <td>New iOS 8 bug can delete all of your iCloud do...</td>\n",
              "      <td>712</td>\n",
              "      <td>unrelated</td>\n",
              "      <td>Danny Boyle is directing the untitled film\\r\\n...</td>\n",
              "    </tr>\n",
              "  </tbody>\n",
              "</table>\n",
              "</div>\n",
              "    <div class=\"colab-df-buttons\">\n",
              "\n",
              "  <div class=\"colab-df-container\">\n",
              "    <button class=\"colab-df-convert\" onclick=\"convertToInteractive('df-aec8992c-aa45-43d7-a349-685d56816c59')\"\n",
              "            title=\"Convert this dataframe to an interactive table.\"\n",
              "            style=\"display:none;\">\n",
              "\n",
              "  <svg xmlns=\"http://www.w3.org/2000/svg\" height=\"24px\" viewBox=\"0 -960 960 960\">\n",
              "    <path d=\"M120-120v-720h720v720H120Zm60-500h600v-160H180v160Zm220 220h160v-160H400v160Zm0 220h160v-160H400v160ZM180-400h160v-160H180v160Zm440 0h160v-160H620v160ZM180-180h160v-160H180v160Zm440 0h160v-160H620v160Z\"/>\n",
              "  </svg>\n",
              "    </button>\n",
              "\n",
              "  <style>\n",
              "    .colab-df-container {\n",
              "      display:flex;\n",
              "      gap: 12px;\n",
              "    }\n",
              "\n",
              "    .colab-df-convert {\n",
              "      background-color: #E8F0FE;\n",
              "      border: none;\n",
              "      border-radius: 50%;\n",
              "      cursor: pointer;\n",
              "      display: none;\n",
              "      fill: #1967D2;\n",
              "      height: 32px;\n",
              "      padding: 0 0 0 0;\n",
              "      width: 32px;\n",
              "    }\n",
              "\n",
              "    .colab-df-convert:hover {\n",
              "      background-color: #E2EBFA;\n",
              "      box-shadow: 0px 1px 2px rgba(60, 64, 67, 0.3), 0px 1px 3px 1px rgba(60, 64, 67, 0.15);\n",
              "      fill: #174EA6;\n",
              "    }\n",
              "\n",
              "    .colab-df-buttons div {\n",
              "      margin-bottom: 4px;\n",
              "    }\n",
              "\n",
              "    [theme=dark] .colab-df-convert {\n",
              "      background-color: #3B4455;\n",
              "      fill: #D2E3FC;\n",
              "    }\n",
              "\n",
              "    [theme=dark] .colab-df-convert:hover {\n",
              "      background-color: #434B5C;\n",
              "      box-shadow: 0px 1px 3px 1px rgba(0, 0, 0, 0.15);\n",
              "      filter: drop-shadow(0px 1px 2px rgba(0, 0, 0, 0.3));\n",
              "      fill: #FFFFFF;\n",
              "    }\n",
              "  </style>\n",
              "\n",
              "    <script>\n",
              "      const buttonEl =\n",
              "        document.querySelector('#df-aec8992c-aa45-43d7-a349-685d56816c59 button.colab-df-convert');\n",
              "      buttonEl.style.display =\n",
              "        google.colab.kernel.accessAllowed ? 'block' : 'none';\n",
              "\n",
              "      async function convertToInteractive(key) {\n",
              "        const element = document.querySelector('#df-aec8992c-aa45-43d7-a349-685d56816c59');\n",
              "        const dataTable =\n",
              "          await google.colab.kernel.invokeFunction('convertToInteractive',\n",
              "                                                    [key], {});\n",
              "        if (!dataTable) return;\n",
              "\n",
              "        const docLinkHtml = 'Like what you see? Visit the ' +\n",
              "          '<a target=\"_blank\" href=https://colab.research.google.com/notebooks/data_table.ipynb>data table notebook</a>'\n",
              "          + ' to learn more about interactive tables.';\n",
              "        element.innerHTML = '';\n",
              "        dataTable['output_type'] = 'display_data';\n",
              "        await google.colab.output.renderOutput(dataTable, element);\n",
              "        const docLink = document.createElement('div');\n",
              "        docLink.innerHTML = docLinkHtml;\n",
              "        element.appendChild(docLink);\n",
              "      }\n",
              "    </script>\n",
              "  </div>\n",
              "\n",
              "\n",
              "<div id=\"df-7d0aa51f-ed2f-49e9-8248-bd066042ab95\">\n",
              "  <button class=\"colab-df-quickchart\" onclick=\"quickchart('df-7d0aa51f-ed2f-49e9-8248-bd066042ab95')\"\n",
              "            title=\"Suggest charts\"\n",
              "            style=\"display:none;\">\n",
              "\n",
              "<svg xmlns=\"http://www.w3.org/2000/svg\" height=\"24px\"viewBox=\"0 0 24 24\"\n",
              "     width=\"24px\">\n",
              "    <g>\n",
              "        <path d=\"M19 3H5c-1.1 0-2 .9-2 2v14c0 1.1.9 2 2 2h14c1.1 0 2-.9 2-2V5c0-1.1-.9-2-2-2zM9 17H7v-7h2v7zm4 0h-2V7h2v10zm4 0h-2v-4h2v4z\"/>\n",
              "    </g>\n",
              "</svg>\n",
              "  </button>\n",
              "\n",
              "<style>\n",
              "  .colab-df-quickchart {\n",
              "      --bg-color: #E8F0FE;\n",
              "      --fill-color: #1967D2;\n",
              "      --hover-bg-color: #E2EBFA;\n",
              "      --hover-fill-color: #174EA6;\n",
              "      --disabled-fill-color: #AAA;\n",
              "      --disabled-bg-color: #DDD;\n",
              "  }\n",
              "\n",
              "  [theme=dark] .colab-df-quickchart {\n",
              "      --bg-color: #3B4455;\n",
              "      --fill-color: #D2E3FC;\n",
              "      --hover-bg-color: #434B5C;\n",
              "      --hover-fill-color: #FFFFFF;\n",
              "      --disabled-bg-color: #3B4455;\n",
              "      --disabled-fill-color: #666;\n",
              "  }\n",
              "\n",
              "  .colab-df-quickchart {\n",
              "    background-color: var(--bg-color);\n",
              "    border: none;\n",
              "    border-radius: 50%;\n",
              "    cursor: pointer;\n",
              "    display: none;\n",
              "    fill: var(--fill-color);\n",
              "    height: 32px;\n",
              "    padding: 0;\n",
              "    width: 32px;\n",
              "  }\n",
              "\n",
              "  .colab-df-quickchart:hover {\n",
              "    background-color: var(--hover-bg-color);\n",
              "    box-shadow: 0 1px 2px rgba(60, 64, 67, 0.3), 0 1px 3px 1px rgba(60, 64, 67, 0.15);\n",
              "    fill: var(--button-hover-fill-color);\n",
              "  }\n",
              "\n",
              "  .colab-df-quickchart-complete:disabled,\n",
              "  .colab-df-quickchart-complete:disabled:hover {\n",
              "    background-color: var(--disabled-bg-color);\n",
              "    fill: var(--disabled-fill-color);\n",
              "    box-shadow: none;\n",
              "  }\n",
              "\n",
              "  .colab-df-spinner {\n",
              "    border: 2px solid var(--fill-color);\n",
              "    border-color: transparent;\n",
              "    border-bottom-color: var(--fill-color);\n",
              "    animation:\n",
              "      spin 1s steps(1) infinite;\n",
              "  }\n",
              "\n",
              "  @keyframes spin {\n",
              "    0% {\n",
              "      border-color: transparent;\n",
              "      border-bottom-color: var(--fill-color);\n",
              "      border-left-color: var(--fill-color);\n",
              "    }\n",
              "    20% {\n",
              "      border-color: transparent;\n",
              "      border-left-color: var(--fill-color);\n",
              "      border-top-color: var(--fill-color);\n",
              "    }\n",
              "    30% {\n",
              "      border-color: transparent;\n",
              "      border-left-color: var(--fill-color);\n",
              "      border-top-color: var(--fill-color);\n",
              "      border-right-color: var(--fill-color);\n",
              "    }\n",
              "    40% {\n",
              "      border-color: transparent;\n",
              "      border-right-color: var(--fill-color);\n",
              "      border-top-color: var(--fill-color);\n",
              "    }\n",
              "    60% {\n",
              "      border-color: transparent;\n",
              "      border-right-color: var(--fill-color);\n",
              "    }\n",
              "    80% {\n",
              "      border-color: transparent;\n",
              "      border-right-color: var(--fill-color);\n",
              "      border-bottom-color: var(--fill-color);\n",
              "    }\n",
              "    90% {\n",
              "      border-color: transparent;\n",
              "      border-bottom-color: var(--fill-color);\n",
              "    }\n",
              "  }\n",
              "</style>\n",
              "\n",
              "  <script>\n",
              "    async function quickchart(key) {\n",
              "      const quickchartButtonEl =\n",
              "        document.querySelector('#' + key + ' button');\n",
              "      quickchartButtonEl.disabled = true;  // To prevent multiple clicks.\n",
              "      quickchartButtonEl.classList.add('colab-df-spinner');\n",
              "      try {\n",
              "        const charts = await google.colab.kernel.invokeFunction(\n",
              "            'suggestCharts', [key], {});\n",
              "      } catch (error) {\n",
              "        console.error('Error during call to suggestCharts:', error);\n",
              "      }\n",
              "      quickchartButtonEl.classList.remove('colab-df-spinner');\n",
              "      quickchartButtonEl.classList.add('colab-df-quickchart-complete');\n",
              "    }\n",
              "    (() => {\n",
              "      let quickchartButtonEl =\n",
              "        document.querySelector('#df-7d0aa51f-ed2f-49e9-8248-bd066042ab95 button');\n",
              "      quickchartButtonEl.style.display =\n",
              "        google.colab.kernel.accessAllowed ? 'block' : 'none';\n",
              "    })();\n",
              "  </script>\n",
              "</div>\n",
              "    </div>\n",
              "  </div>\n"
            ],
            "application/vnd.google.colaboratory.intrinsic+json": {
              "type": "dataframe",
              "variable_name": "merged_data",
              "summary": "{\n  \"name\": \"merged_data\",\n  \"rows\": 49972,\n  \"fields\": [\n    {\n      \"column\": \"Headline\",\n      \"properties\": {\n        \"dtype\": \"category\",\n        \"num_unique_values\": 1648,\n        \"samples\": [\n          \"Luke Somers Dies In Rescue Attempt, Sister Says; Yemeni Defense Ministry Says Unnamed US Hostage Freed\",\n          \"Penis Drawn On Bugatti Veyron Could Be World's Most Expensive Car Vandalism\",\n          \"God is a woman- Priest who died for 48 minutes claims\"\n        ],\n        \"semantic_type\": \"\",\n        \"description\": \"\"\n      }\n    },\n    {\n      \"column\": \"Body ID\",\n      \"properties\": {\n        \"dtype\": \"number\",\n        \"std\": 730,\n        \"min\": 0,\n        \"max\": 2532,\n        \"num_unique_values\": 1683,\n        \"samples\": [\n          1472,\n          1375,\n          1700\n        ],\n        \"semantic_type\": \"\",\n        \"description\": \"\"\n      }\n    },\n    {\n      \"column\": \"Stance\",\n      \"properties\": {\n        \"dtype\": \"category\",\n        \"num_unique_values\": 4,\n        \"samples\": [\n          \"discuss\",\n          \"disagree\",\n          \"unrelated\"\n        ],\n        \"semantic_type\": \"\",\n        \"description\": \"\"\n      }\n    },\n    {\n      \"column\": \"articleBody\",\n      \"properties\": {\n        \"dtype\": \"category\",\n        \"num_unique_values\": 1669,\n        \"samples\": [\n          \"The heroic sergeant-at-arms who shot dead a lone gunman in Canada's Parliament on Wednesday has been greeted back to work with a lengthy standing ovation.\\r\\n\\r\\nKevin Vickers, 58, struggled to contain his emotions as members of the House of Commons paid tribute to his bravery, which put an end to Michael Zehaf-Bibeau's shooting spree.\\r\\n\\r\\nRousing footage shows Vickers leading a ceremonial parade into the chamber on Thursday morning and being greeted by enthusiastic applause from the members of Parliament.\\r\\n\\r\\nHe managed to stay mostly expressionless throughout the standing ovation - simply nodding in thanks several times - but as the cheers continued, he appeared to tear up with emotion.\\r\\n\\r\\nScroll down for videos\\r\\n\\r\\nOverwhelmed: Kevin Vickers, the sergeant-at-arms for Canada's House of Commons, becomes emotional as members of Parliament applaud him on Thursday, a day after he shot dead a gunman inside the building\\r\\n\\r\\nOn their feet: Members of Parliament clap for Vickers after he led a ceremonial parade into the chamber\\r\\n\\r\\nStoic: He managed to keep a straight face as he completed the ceremonial parade on Thursday morning\\r\\n\\r\\nThe rousing standing ovation in the House of Commons continued as he walked through the chamber\\r\\n\\r\\nThankful: After he assumes his position at the end of the chamber, the minutes-long applause continues\\r\\n\\r\\nAfter reaching his position at the end of the chambers, he was greeted by Prime Minister Stephen Harper, who shook his hand.\\r\\n\\r\\nFollowing a minute of silence, Harper embraced Liberal leader Justin Trudeau and Opposition leader Thomas Mulcair and read a statement expressing thanks to the bravery of the security staff.\\r\\n\\r\\n'We will not be intimidated,' he said, CTV News reported 'We will be vigilant, but we will not run scared. We will be prudent, but we will not panic.\\r\\n\\r\\n'Here we are, in our seats, in our chamber in the very heart of Canadian democracy, and the work is going on.'\\r\\n\\r\\nHis speech also came just days after a previous terror attack, in which a man with jihadist sympathies ran over two Canadian soldiers in Quebec, killing one.\\r\\n\\r\\nFollowing the show of support, Vickers released a statement expressing his gratitude.\\r\\n\\r\\nAppreciation: Vickers nodded in thanks several times as the applause continued for his heroic feat\\r\\n\\r\\nService: Prime Minister Stephen Harper shakes hands with the sergeant-at-arms during the meeting\\r\\n\\r\\nThankful: He thanked Vickers for shooting the suspect during Wednesday's incident and ending the terror\\r\\n\\r\\nHumbled: He took over the role of sergeant-at-arms 8 years ago after working with the RCMP for 29 years\\r\\n\\r\\n'I am very touched by the attention directed at me following yesterday\\u2019s events,' he said. 'However, I have the support of a remarkable security team that is committed to ensuring the safety of Members, employees and visitors to the Hill.'\\r\\n\\r\\nHe went on: 'On behalf of all members of the House of Commons Security Services team, I would like to extend our deepest condolences to the family of Cpl. Nathan Cirillo. Our prayers are with you.\\r\\n\\r\\n'Our thoughts are also with Constable Samearn Son, who has been with the House of Commons Security Services for 10 years. Constable Son suffered a gun shot wound to the leg. He is in stable condition and expected to make a full recovery.'\\r\\n\\r\\nVickers served with the RCMP for 29 years before assuming the role at Parliament eight years ago. The sergeant-at-arms is in charge of security at the House of Commons.\\r\\n\\r\\nDespite his lengthy service, family members have revealed that Wednesday's attack was the first time Vickers had ever shot anyone.\\r\\n\\r\\n'For it now to happen at Parliament ... is unbelievable,' his brother John Vickers told CNN. 'We're just relieved he's OK.'\\r\\n\\r\\nHis sister, Mary, added to the Sun News: 'We're always very proud of Kevin, but at this moment we are concerned about him - he had to make a very serious decision today.'\\r\\n\\r\\n'He's always a natural leader. He would not have taken this decision lightly, and I can't stress that enough - but he would always expect of himself to do what he would expect of the men and women under him.'\\r\\n\\r\\nHeroic: He took down Michael Zehaf-Bibeau, pictured - his first ever exchange of gunfire in his career\\r\\n\\r\\nHailed a hero: MPs line up to shake hands with the sergeant-at-arms on Thursday morning\\r\\n\\r\\nDetermined: Prime Minister Stephen Harper tells the House of Commons that they will not be initimated\\r\\n\\r\\nVickers' family gathered at homes in their hometown of Miramichi, New Brunswick to talk about previous shows of leadership.\\r\\n\\r\\nThe National Post explained how Vickers had been dispatched to the Burnt Church wharf 14 years ago when native and non-native fisherman were scrapping. He often visited when he was off-duty ready to listen to the fishermen and helping to resolve their arguments.\\r\\n\\r\\n'The inspector was a real community man,' Bobby Sylliboy, a longtime band constable with the Burnt Church First Nation, said. 'He was a professional. And for him to use force, it would have had to have been life or death.'\\r\\n\\r\\nRelatives added that Vickers' constable son, Andrew, is also a selfless leader after he saved a drowning woman three years ago.\\r\\n\\r\\nAfter Wednesday's fraught events, MPs hailed Kevin Vickers a hero.\\r\\n\\r\\nRiveting video: Vickers led the way as officials chased down terrorist Michael Zehaf-Bibeau on Wednesday after he murdered reservist Nathan Cirillo and entered the House of Commons building\\r\\n\\r\\nInches from disaster: The terrifying morning attack happened just outside the MPs' caucus rooms\\r\\n\\r\\nJob done: Kevin Vickers, Canada's House of Commons' sergeant-at-arms, looks around the hallways with a gun in his hand after shooting dead an attacker, Michael Zehaf-Bibeau, on Wednesday morning\\r\\n\\r\\n'I am writing this note on behalf of my husband and myself. No words can express the sadness we are feeling at this time.\\r\\n\\r\\n'We are so sad that a man lost his life. He has lost everything and he leaves behind a family that must feel nothing but pain and sorrow. We send our deepest condolences to them although words seem pretty useless. We are both crying for them. We also wish to apologize for all the pain, fright and chaos he created.\\r\\n\\r\\n'We have no explanation to offer. I am mad at our son, I don't understand and part of me wants to hate him at this time. You write that our son was vulnerable, we don't know, we (he) was lost and did not fit in.\\r\\n\\r\\nI his mother spoke with him last week over lunch, I had not seen him for over five years before that. So I have very little insight to offer.\\r\\n\\r\\nWe don't wish to be part of any media circus, we don't think it will add anything to the conversation. Please respect our privacy although many may not feel we deserve any ... Once again we are so sorry.'\\r\\n\\r\\n'MPs and Hill staff owe their safety, even lives, to Sergeant at Arms Kevin Vickers who shot attacker just outside the MPs' caucus rooms,' tweeted New Democrat MP Craig Scott on Wednesday.\\r\\n\\r\\nMatt Miller, the Vancouver Observer's parliamentary bureau chief, concurred.\\r\\n\\r\\n'Kevin is definitely a hero,' Miller told CNN.\\r\\n\\r\\nVickers serves a largely ceremonial role at the House of Commons, carrying a scepter and wearing rich green robes, white gloves and a tall imperial tricorne hat.\\r\\n\\r\\nA fit, tall 6-foot-4, Vickers spends many of his lunch breaks running in order to stay fit. He also carries a 9mm pistol while at work.\\r\\n\\r\\nBoth things appeared to come in extremely handy while Vickers took down the parliament terrorist Wednesday.\\r\\n\\r\\n'It's Kevin being Kevin,' his cousin Keith told CBC. 'He's a very intelligent and responsible person. He's a people person-type fellow, too, but you don't want to mess with him.'\\r\\n\\r\\nHe was called into action after Michael Zehaf-Bibeau ran towards the National War Memorial just before 10am on Wednesday and shot Corporal Nathan Cirillo, a single dad, in the abdomen.\\r\\n\\r\\nHe then ran towards the Parliament and opened fire, shooting dozens of shots as politicians and journalists barricaded doors inside.\\r\\n\\r\\nVideo taken inside Ottawa's House of Commons shows a rush of armed police running toward an unseen suspect.\\r\\n\\r\\nVictim: Nathan Cirillo, 24, was standing guard at the memorial when he was fatally shot in the abdomen\\r\\n\\r\\nRemembered: A Canadian flag flies at half staff on top of the Peace Tower at the Parliament on Thursday\\r\\n\\r\\nPatrol: Members of the Ottawa Police stand guard in front of the War Memorial one day after the attack\\r\\n\\r\\nVigilant: A police officer patrols the hallway near the entrance to the Parliamentary Library on Thursday\\r\\n\\r\\nChilling: Bullet holes are seen in a window of the rotunda of the House of Commons in Ottawa on Thursday\\r\\n\\r\\nAt the head of the pack is a man - Vickers - moving swiftly with his gun toward Zehaf-Bibeau. Vickers takes aim and fires off multiple shots, killing the gunman.\\r\\n\\r\\nAs shots echo throughout the hall, the video goes wobbly as the men behind their leader Vickers move for cover.\\r\\n\\r\\nIt has since emerged that the gunman - whose full name was Michael, Joseph, Paul, Abdallah Bulgasem Zehaf Bibeau - had recently converted to Islam and had a length history of petty crime.\\r\\n\\r\\nHe had also recently been designated a 'high-risk traveler' by the Canadian government and had his passport seized, according to reports.\\r\\n\\r\\nOn Thursday, his mother Susan Bibeau, who sits on the country's Immigration board, released a statement saying she had been shocked by the shooting spree and, because she had long been estranged from her son, she was unable to shed much light on why he carried out the crime.\\r\\n\\r\\nTribute: Prime Minister Stephen Harper visited the scene of the shooting on Thursday morning to lay flowers\\r\\n\\r\\nAll quiet: Evidence tags can be seen on the steps of the memorial as the Harpers walk away\\r\\n\\r\\nRemembered: Flowers with a card for Corporal Cirillo can be seen at the foot of the War Memorial\\r\\n\\r\\nShe said she felt pain for the victims - not for the loss of her son.\\r\\n\\r\\n'We are both crying for them,' she told the Associated Press. 'We also wish to apologize for all the pain, fright and chaos he created.\\r\\n\\r\\n'We have no explanation to offer. I am mad at our son, I don't understand and part of me wants to hate him at this time. You write that our son was vulnerable, we don't know, he was lost.'\\r\\n\\r\\nOn Thursday, flags were flown at half-mast across Canada as a shocked and still fearful Ottawa awoke.\\r\\n\\r\\nHarper and other MPs stopped to lay a wreath at the war memorial - but as the prime minister arrived, police wrestled a man to the ground for getting too close to the leader, CTV reported.\\r\\n\\r\\nSecurity remains tight around the Parliament, as politicians and their staff returned to work on Thursday. The grounds, nearby streets and war memorial are still closed to visitors.\\r\\n\\r\\nSolemn: Canada's Minister of National Defence Rob Nicholson (center) and Chief of the Defence Staff General Tom Lawson (right) prepare to lay a wreath at the National War Memorial on Thursday\\r\\n\\r\\nFallen: The wreath stands at the memorial where Corporal Cirillo was shot dead on Wednesday\\r\\n\\r\\nHonoring the fallen: An unidentified man prays after placing flowers near the National War Memorial\\r\\n\\r\\nArrest: An uniendtified man was arrested for disturbing the crime scene as Harper visited the area\\r\\n\\r\\nQueen Elizabeth released a statement to the country saying she was saddened by the events.\\r\\n\\r\\n'Prince Philip and I were shocked and saddened by the events in Ottawa. Our thoughts and prayers are with all those affected' she said.\\r\\n\\r\\nCirillo, from Hamilton, Ontario, has been remembered as a generous man and a fitness fanatic, who rescued dogs and was bringing up a kindergarten age son on his own.\\r\\n\\r\\n'He was an amazing guy,' Michelle Howlett, who briefly dated Cirillo this summer, told the Washington Post. 'He was a real sweetheart. He had a son and was a real great father. He was an exceptional person.'\",\n          \"Get ready for the tech press to flip out when Apple announces the retail price for the gold Apple Watch Edition model. Apple critics have always roasted the company for selling products that are more expensive than they should be, and they frequently use this as a wedge topic to criticize buyers. But the \\u201c18-karat gold\\u201d Apple Watch Edition will set a whole new bar with a sales price of $10,000. The funny thing in this case is that Apple is perfectly right to be charging that much!\\r\\n\\r\\nDo you disagree? Check out my counterpoint, \\u201cThe Case Against the $10,000 Gold Apple Watch Edition\\u201c\\r\\n\\r\\nGold is Expensive\\r\\n\\r\\nLet\\u2019s start with a little backgrounder in gold. Everyone has a vague sense that gold is expensive. Even rabid Internet trolls have seen the banner ads and heard about that in the news. But most people don\\u2019t understand just how expensive even a little bit of gold is. So this is a good place to begin the discussion.\\r\\n\\r\\nUpdate: My calculations were wrong! Also, this was a bit \\u201cback of the envelope.\\u201d Now that it has some readership I realize I should go back and fix the calculations in the article to be more realistic\\u2026\\r\\n\\r\\nHere are the basic facts:\\r\\n\\r\\nGold currently sells for between $1,200 and $1,300 per troy ounce and has been over $1,000 per troy ounce for the last five years.\\r\\n18-karat gold contains 75% pure gold, and that term is regulated by law.\\r\\nOne ounce of 18k gold occupies about 1.8 cubic centimeters of volume since a typical 18-karat gold alloy weighs about 16.5 grams per cc.\\r\\n18-karat gold currently sells for $29.11 per gram, $905 per troy ounce, or $480 per cc.\\r\\n.25 cc of 18k gold is about enough to construct a watch buckle and .75 cc gets you a deployant clasp. It takes a few more to build a watch case, anywhere from 1.5 to 8 cc depending on the size and thickness of the case. So the buckle is worth $120-$360 and the watch case $720 to $3800 just as raw gold. This is why gold watches generally sell for a lot more than $6,000!\\r\\n\\r\\nGold Watches are Expensive\\r\\n\\r\\nLet\\u2019s apply this to a watch case. Imagine you wanted to create a rectangular case 42 mm high by 36 mm wide by 10 mm deep. If it was solid, this would equal 15.12 cc of volume. But it\\u2019s a watch case, so you have to leave room for the movement, dial, case back, etc. So let\\u2019s just leave 5 mm of thickness all around, making a hollow rectangle. This equals 6.8 cc (42 x 36 x 10 \\u2013 32 x 26 x 10). Therefore, the raw gold to make just the case of this hypothetical watch would cost $3,200 as of this writing.\\r\\n\\r\\nA simple 42x36x10 mm rectangle of 5 mm thick 18-karat gold would cost over $8,300\\r\\nA simple 42x36x10 mm rectangle of 5 mm thick 18-karat gold would cost more than $3,200\\r\\nNow let\\u2019s consider the same shape but just 2 mm thick. That\\u2019s 2.9 cc of gold, worth $1,400. Pick your thickness and you\\u2019re still looking at thousands of dollars worth of gold.\\r\\n\\r\\nHow does this translate in the real world? Let\\u2019s look at the retail price of some watches that are available in both stainless steel and 18-karat gold.\\r\\n\\r\\nThis Cartier Tank MC is $15,000 more in 18k gold\\r\\nThis Cartier Tank MC is $15,000 more in 18k gold\\r\\nThe Cartier Tank MC measures 44 mm by 34 mm by 9.5 mm thick: $15,000 extra (list) for 18k gold\\r\\nCartier Tank MC in stainless steel: $7,000 list, $5,800 street\\r\\nCartier Tank MC in 18k pink gold: $22,000 list, $18,200 street\\r\\nThe Jaeger-LeCoultre Reverso Squadra Hometime measures 50.5 mm by 34.9 mm by 14 mm thick: $14,750 extra (list) for 18k gold\\r\\nJaeger-LeCoultre Reverso Squadra Hometime in stainless steel: $8,550 list, $6,800 street\\r\\nJaeger-LeCoultre Reverso Squadra Hometime in 18k pink gold: $23,300 list, $18,400 street\\r\\nThis list could go on and on, but the gist is simple: 18-karat gold cases cost a lot more than stainless steel. In fact, it\\u2019s pretty much impossible to find a gold watch for under $10,000 in any size and from any manufacturer. Even tiny quartz ladies watches like the tiny Chopard Happy Sport Mini sells for $11,000! Most of the bargains commenters have pointed to are either 14-karat or less, very slim and small, or long out of production and with outdated pricing.\\r\\n\\r\\nThen there\\u2019s the bracelet. Swap a gold bracelet for a leather strap and you are looking at an extra $20,000. Adding a gold bracelet to that Jaeger-LeCoultre bumps the price to $42,900!\\r\\n\\r\\nCertainly there is quite a bit of profit in luxury watches, but one simply cannot deny the raw material value in a gold watch case. And the gold market is liquid like stocks and other commodities: There are plenty of buyers and sellers of gold, and plenty of reserves, so no company, no matter how strong, can expect favorable pricing from their suppliers.\\r\\n\\r\\nAnother reason companies charge so much for gold watches and jewelry is as a hedge against volatility. They can\\u2019t price near the commodity price because they have to set a price and stick to it all year long. So they generally price somewhat higher than they would, even taking into consideration all the rest of the materials, labor, distribution, and profit in a watch.\\r\\n\\r\\nThe Apple Watch Edition Will Cost $10,000\\r\\n\\r\\nThere\\u2019s a reason I picked those two watches for my comparisons: Both are similar in size and shape to the 42 mm Apple Watch. The Cartier is a little smaller and the Jaeger-LeCoultre is a little larger, but both represent a traditional watchmaker\\u2019s gold-cased square-ish offering in the space. And both cost more than $20,000, with much of that price going to the gold case and matching buckle. And Jony Ive recently said that the historic Cartier Tank was one of his inspirations for the Apple Watch design!\\r\\n\\r\\nApple would be crazy to sell the Apple Watch Edition for $20,000, though. That\\u2019s not going to happen. So they\\u2019re likely to find ways to reduce the cost dramatically.\\r\\n\\r\\nFirst, as we can see, the Apple Watch case is highly rounded in all three dimensions. Although questionable from an esthetic standpoint, this reduces the amount of material required by quite a lot. Second, Apple Watch has a large sapphire crystal front and back with the display, sensors, and such. Third, the interior frame is likely made of steel or aluminum, not gold, to reduce cost and increase commonality with the aluminum and steel versions.\\r\\n\\r\\nCould it be gold plated? No. Numerous reports state that it is a solid gold case. Although Apple has not apparently used the word, \\u201csolid\\u201d in their press releases, they do claim it is \\u201ccrafted from 18-karat gold\\u201d and nowhere does it say it is plated or \\u201cgold filled\\u201d (the industry term). There are laws covering descriptions of metal content for jewelry and Apple cannot break these any more than Tiffany could.\\r\\n\\r\\nApple says that the Apple Watch will start at $349 for that aluminum Sport model, and many bloggers have reported the price for the steel Apple Watch to be roughly $1,000. It is reasonable to assume that the gold Edition model will sell for substantially more than this, with many suggesting $4,000 or $5,000. But remember that this price would only cover 4 or 5 ounces of gold! Even with thin walls and a steel frame, it\\u2019s hard to see how Apple could make a solid 18-karat gold case and buckle for a 42 mm watch with just 3 ounces of gold.\\r\\n\\r\\nGold is soft, but Apple claims that their special gold is twice as hard as \\u201cstandard gold\\u201d. Taking that at face value, perhaps they reduced the thickness of the case commensurately, cutting the amount of gold in half versus a standard rectangular watch. This still leaves a few thousand dollars of material value in the case. The Apple Watch Edition will come in 38 mm and 42 mm sizes, a difference of about 20% in terms of case volume. So the smaller model could sell for 20% less still.\\r\\n\\r\\nMy prediction is that the 42 mm Apple Watch Edition will retail for $9,999 with the 38 mm Apple Watch Edition retailing for $7,999. This covers the cost of the gold case, the internals, manufacturing, sales, and profit, and yet does not leave Apple subsidizing the world gold market by selling at a discount or cheating with a too-thin or plated case. I will be shocked if the price is $4,999, but I suppose it\\u2019s possible with some finagling and if that\\u2019s the smaller model. And it will not be any less than that.\\r\\n\\r\\nThis is a $10,000 product\\r\\nThis is a $10,000 product\\r\\nBonus prediction: Given the very high price of the Apple Watch Edition, I predict that availability will be quite limited. Apple will likely create special store-within-a-store spaces in certain Apple Store locations for the Edition. I further expect them to open special standalone Apple Edition Boutiques to sell the Watch Edition, accessories, and perhaps other future high-end products.\\r\\n\\r\\nUpdate!\\r\\n\\r\\nNeedless to say, many people disagree with me. And now that @Gruber Fireballed this post, I imagine I\\u2019ll hear from lots of them real soon!\\r\\n\\r\\nThe gist of the disagreement lies in the amount of gold needed for the watch case. I assumed it would be quite thick (read sturdy) and would contain upwards of 130 grams of 18k gold. Then there\\u2019s the strap lugs and buckle which would likely contain another few dozen grams. But @GAK_PDX  (and others, though he was most visually eloquent) suspects it contains much less gold.\\r\\n\\r\\n\\r\\nI think this number is way too low, but it\\u2019s a good lower bound if the case was very thin and completely hollow. And it puts the raw gold at about $849 at $29.11 per gram of 18k gold. Although this is admittedly much, much lower than my estimate, it still illustrates my point that the Apple Watch Edition is not going to be cheap. And I think he\\u2019s way off but time will tell who is right and who is wrong.\\r\\n\\r\\nAnother argument is based on this 2006 analysis of a gold Rolex watch. Right off the bat one should point out that gold cost $400/oz when it was written and that watch includes a gold bracelet as well, something Apple is apparently not going to do with the Edition. That Rolex case contained 18.5 grams of gold alloy, but it\\u2019s much, much smaller than the Apple watch and it\\u2019s circular to boot! A 34mm circle is 107mm in circumference, while the 42mm Apple Watch is 156mm in circumference. Use the magic of math to scale the Rolex up into a 42mm rectangle and we\\u2019re at 27.75 grams. But that case is also much thinner since we excluded the bezel, and the Apple Watch is pretty slab-sided. So we can probably double this safely and come out with $1,615 of gold in my mangled square Rolex case.\\r\\n\\r\\nSo there are lower estimates than mine for the amount and value of the gold. I can accept that. But let\\u2019s take a step back and think about the final price. Even if it contained less than $1,500 of gold, how much would it sell for? Certainly not $2,000 or $3,000. You still have to account for the cost of everything else, plus the intangibles of manufacturing and distribution. And profit for Apple (and a hedge against the volatility of the price of gold). So we\\u2019re back at the $4,000-$5,000 estimate others have made. As Greg Koenig tweeted, and Forbes reported, \\u201cIf anyone thinks Apple is charging less than $5k for the Edition, they are smoking crack.\\u201d\\r\\n\\r\\nRegardless of the total, it\\u2019s important to realize that the price of gold is in the driver\\u2019s seat when it comes to pricing the Apple Watch Edition.\\r\\n\\r\\nI\\u2019d love to be wrong, and I look forward to updating this piece. Thanks for reading!\",\n          \"In 2015, there\\u2019s the quality-fake news and the crappy-fake news.\\r\\n\\r\\nExamples? Of course.\\r\\n\\r\\nThe quality: Fake news source The Onion quoted fake people on a very real, if unbelievable, subject on March 3, 2015: As the Utah Senate weighed legal medical marijuana last week, a DEA agent testified that he came across \\u201crabbits that had cultivated a taste for the marijuana\\u201d while eradicating illegal pot farms in the wild back-country. It\\u2019s hard to believe, a drug enforcement agent\\u2019s encounter with stoned rabbits, but that part\\u2019s real. The fake part: The Onion quoted fake people\\u2019s reactions to the all-too-real news. \\u201cRabbits are going to be getting high anyway,\\u201d one hilariously fake person said. \\u201cBetter that it be safe, legal, and regulated.\\u201d\\r\\n\\r\\nThe crappy: Fake news site The Daily Currant wrote a story under the headline \\u201cMarijuana Overdoses Kill 37 in Colorado On First Day of Legalization\\u201d on Jan. 2, 2014. It began ridiculously: \\u201cColorado is reconsidering its decision to legalize recreational pot following the deaths of dozens due to marijuana overdoses.\\u201d How anyone could believe such a story, from such an outlet, is still dumbfounding.\\r\\n\\r\\nAnd now some more fake news is on the loose \\u2014 and it falls on the crappy, lowest-common-denominator side. The Racket Report already has hundreds of thousands of shares on its recent piece, \\u201cKFC Gets Occupational Business License To Sell Marijuana In Colorado Restaurants.\\u201d\\r\\n\\r\\nNevermind the story and its preposterous hypothetical for just one moment \\u2014 what about the scrolling \\u201cNews Ticker\\u201d above the headline pitching other \\u201cnews\\u201d including \\u201cExclusive Photos Of Miley Cyrus And Justin Bieber\\u2019s Wedding!\\u201d and \\u201c69 People Die After Drinking Bad Coors Lite At A Funeral.\\u201d Neither of those headlines threw off the 200,000-plus people sharing this story to their own social media?\\r\\n\\r\\nThe Racket Report\\u2019s piece said KFC \\u201cdecided to incorporate a marijuana dispensary with their Colorado franchise restaurants. Franchisees have the opportunity to expand into the business for an additional $35,000 setup fee. The KFC Corporation was approved on February 3, 2015 for their Marijuana Retail Recreational Pot / Medical Marijuana Occupational Business License. Currently, 42 of the nearly 100 KFC franchises in the state of Colorado have added this \\u2018option\\u2019 to their menu.\\u201d\\r\\n\\r\\nSounds believable, right?\\r\\n\\r\\nWrong. As I wrote a year ago as the \\u201cMarijuana Overdoses Kill 37\\u2033 story was going viral:\\r\\n\\r\\nWe\\u2019re all too discerning to believe everything we read online. But you read this and didn\\u2019t check (the site\\u2019s) About page or proven, local-to-Colorado news sources before Facebooking it. Next time you see a major piece of news being reported by an unrecognized entity, you might think to question its content before spreading it as fact.\\r\\n\\r\\nThe Racket Report\\u2019s About page says \\u201csome stories on this website are fictitious.\\u201d Gee, really?\\r\\n\\r\\nThe beauty of the weed-at-KFC ridiculousness comes in the news that there is a KFC selling marijuana in California \\u2014 though it\\u2019s a Kind For Cures medical dispensary and not a Kentucky Fried Chicken fast-food restaurant, as Inquisitr reported.\\r\\n\\r\\nThe shop\\u2019s website even notes, \\u201cThis ain\\u2019t no chicken joint!\\u201d\"\n        ],\n        \"semantic_type\": \"\",\n        \"description\": \"\"\n      }\n    }\n  ]\n}"
            }
          },
          "metadata": {},
          "execution_count": 35
        }
      ]
    },
    {
      "cell_type": "markdown",
      "source": [
        "### Body ID"
      ],
      "metadata": {
        "id": "OtmjFw3BazpE"
      }
    },
    {
      "cell_type": "code",
      "source": [
        "import matplotlib.pyplot as plt\n",
        "\n",
        "# Calculate the number of articles associated with each Body ID\n",
        "articles_per_body_id = merged_data['Body ID'].value_counts()\n",
        "\n",
        "# Find the maximum and minimum number of articles\n",
        "max_articles_count = articles_per_body_id.max()\n",
        "min_articles_count = articles_per_body_id.min()\n",
        "\n",
        "# Find Body IDs with the maximum and minimum number of articles\n",
        "max_articles_body_ids = articles_per_body_id[articles_per_body_id == max_articles_count]\n",
        "min_articles_body_ids = articles_per_body_id[articles_per_body_id == min_articles_count]\n",
        "\n",
        "# Print Body IDs with the maximum number of articles\n",
        "print(\"\\nBody IDs with the Highest Number of Associated Articles:\")\n",
        "for body_id, count in max_articles_body_ids.items():\n",
        "    print(f\"Body ID: {body_id}, Number of Articles: {count}\")\n",
        "\n",
        "# Print Body IDs with the minimum number of articles\n",
        "print(\"\\nBody IDs with the Lowest Number of Associated Articles:\")\n",
        "for body_id, count in min_articles_body_ids.items():\n",
        "    print(f\"Body ID: {body_id}, Number of Articles: {count}\")\n",
        "\n",
        "\n",
        "# Plot the Distribution of the Number of Articles per Body ID\n",
        "plt.figure(figsize=(10, 6))\n",
        "articles_per_body_id.plot(kind='hist', bins=20, color='skyblue', edgecolor='black')\n",
        "plt.xlabel('Number of Articles')\n",
        "plt.ylabel('Frequency')\n",
        "plt.title('Distribution of Articles per Body ID')\n",
        "plt.grid(True)\n",
        "plt.show()\n"
      ],
      "metadata": {
        "colab": {
          "base_uri": "https://localhost:8080/",
          "height": 1000
        },
        "id": "k7zbKP8-ou1f",
        "outputId": "c6f0c829-3226-4fea-897e-9e943fd3d10c"
      },
      "execution_count": 47,
      "outputs": [
        {
          "output_type": "stream",
          "name": "stdout",
          "text": [
            "Distribution of Articles Across Body IDs:\n",
            "count    1683.000000\n",
            "mean       29.692216\n",
            "std        28.705800\n",
            "min         1.000000\n",
            "25%         8.000000\n",
            "50%        21.000000\n",
            "75%        42.500000\n",
            "max       187.000000\n",
            "Name: count, dtype: float64\n",
            "\n",
            "Body IDs with the Highest Number of Associated Articles:\n",
            "Body ID: 1921, Number of Articles: 187\n",
            "\n",
            "Body IDs with the Lowest Number of Associated Articles:\n",
            "Body ID: 200, Number of Articles: 1\n",
            "Body ID: 283, Number of Articles: 1\n",
            "Body ID: 232, Number of Articles: 1\n",
            "Body ID: 323, Number of Articles: 1\n",
            "Body ID: 370, Number of Articles: 1\n",
            "Body ID: 18, Number of Articles: 1\n",
            "Body ID: 228, Number of Articles: 1\n",
            "Body ID: 282, Number of Articles: 1\n",
            "Body ID: 151, Number of Articles: 1\n",
            "Body ID: 112, Number of Articles: 1\n",
            "Body ID: 136, Number of Articles: 1\n",
            "Body ID: 982, Number of Articles: 1\n",
            "Body ID: 2079, Number of Articles: 1\n",
            "Body ID: 476, Number of Articles: 1\n",
            "Body ID: 797, Number of Articles: 1\n",
            "Body ID: 407, Number of Articles: 1\n",
            "Body ID: 915, Number of Articles: 1\n",
            "Body ID: 362, Number of Articles: 1\n",
            "Body ID: 464, Number of Articles: 1\n",
            "Body ID: 553, Number of Articles: 1\n",
            "Body ID: 175, Number of Articles: 1\n",
            "Body ID: 135, Number of Articles: 1\n",
            "Body ID: 74, Number of Articles: 1\n",
            "Body ID: 854, Number of Articles: 1\n",
            "Body ID: 285, Number of Articles: 1\n",
            "Body ID: 146, Number of Articles: 1\n",
            "Body ID: 907, Number of Articles: 1\n",
            "Body ID: 352, Number of Articles: 1\n",
            "Body ID: 302, Number of Articles: 1\n",
            "Body ID: 355, Number of Articles: 1\n",
            "Body ID: 307, Number of Articles: 1\n",
            "Body ID: 76, Number of Articles: 1\n",
            "Body ID: 877, Number of Articles: 1\n",
            "Body ID: 83, Number of Articles: 1\n",
            "Body ID: 1065, Number of Articles: 1\n",
            "Body ID: 1542, Number of Articles: 1\n",
            "Body ID: 375, Number of Articles: 1\n",
            "Body ID: 156, Number of Articles: 1\n",
            "Body ID: 1025, Number of Articles: 1\n",
            "Body ID: 466, Number of Articles: 1\n",
            "Body ID: 790, Number of Articles: 1\n",
            "Body ID: 109, Number of Articles: 1\n",
            "Body ID: 193, Number of Articles: 1\n",
            "Body ID: 142, Number of Articles: 1\n",
            "Body ID: 468, Number of Articles: 1\n",
            "Body ID: 2311, Number of Articles: 1\n",
            "Body ID: 406, Number of Articles: 1\n",
            "Body ID: 510, Number of Articles: 1\n",
            "Body ID: 25, Number of Articles: 1\n",
            "Body ID: 1201, Number of Articles: 1\n",
            "Body ID: 63, Number of Articles: 1\n",
            "Body ID: 140, Number of Articles: 1\n",
            "Body ID: 210, Number of Articles: 1\n",
            "Body ID: 701, Number of Articles: 1\n",
            "Body ID: 515, Number of Articles: 1\n",
            "Body ID: 390, Number of Articles: 1\n",
            "Body ID: 376, Number of Articles: 1\n",
            "Body ID: 2013, Number of Articles: 1\n",
            "Body ID: 383, Number of Articles: 1\n",
            "Body ID: 110, Number of Articles: 1\n",
            "Body ID: 59, Number of Articles: 1\n",
            "Body ID: 624, Number of Articles: 1\n",
            "Body ID: 272, Number of Articles: 1\n",
            "Body ID: 14, Number of Articles: 1\n",
            "Body ID: 44, Number of Articles: 1\n",
            "Body ID: 70, Number of Articles: 1\n",
            "Body ID: 229, Number of Articles: 1\n",
            "Body ID: 494, Number of Articles: 1\n",
            "Body ID: 6, Number of Articles: 1\n",
            "Body ID: 41, Number of Articles: 1\n",
            "Body ID: 4, Number of Articles: 1\n",
            "Body ID: 53, Number of Articles: 1\n",
            "Body ID: 118, Number of Articles: 1\n",
            "Body ID: 16, Number of Articles: 1\n",
            "Body ID: 65, Number of Articles: 1\n",
            "Body ID: 114, Number of Articles: 1\n",
            "Body ID: 24, Number of Articles: 1\n",
            "Body ID: 1066, Number of Articles: 1\n"
          ]
        },
        {
          "output_type": "display_data",
          "data": {
            "text/plain": [
              "<Figure size 1000x600 with 1 Axes>"
            ],
            "image/png": "[encoded data removed]"
          },
          "metadata": {}
        }
      ]
    },
    {
      "cell_type": "code",
      "source": [
        "merged_data['Body ID'].value_counts()"
      ],
      "metadata": {
        "id": "kKO1tmYsuWZn",
        "colab": {
          "base_uri": "https://localhost:8080/"
        },
        "outputId": "2b40e2a3-8306-4be9-c5e2-2a969e5bdf13"
      },
      "execution_count": 9,
      "outputs": [
        {
          "output_type": "execute_result",
          "data": {
            "text/plain": [
              "Body ID\n",
              "1921    187\n",
              "1948    175\n",
              "40      172\n",
              "524     171\n",
              "1549    166\n",
              "       ... \n",
              "16        1\n",
              "65        1\n",
              "114       1\n",
              "24        1\n",
              "1066      1\n",
              "Name: count, Length: 1683, dtype: int64"
            ]
          },
          "metadata": {},
          "execution_count": 9
        }
      ]
    },
    {
      "cell_type": "code",
      "source": [
        "# X-Axis - Range for Value Counts Y-Axis - Number of Body_ids (count) fall in that range\n",
        "\n",
        "import matplotlib.pyplot as plt\n",
        "\n",
        "# Define intervals for value counts\n",
        "interval_size = 20\n",
        "max_count = merged_data['Body ID'].value_counts().max()\n",
        "num_intervals = max_count // interval_size + 1\n",
        "intervals = [(i * interval_size, (i + 1) * interval_size) for i in range(num_intervals)]\n",
        "\n",
        "# Count how many Body IDs fall into each interval\n",
        "body_id_counts = merged_data['Body ID'].value_counts()\n",
        "counts_in_intervals = [((body_id_counts >= interval[0]) & (body_id_counts < interval[1])).sum() for interval in intervals]\n",
        "\n",
        "# Plot the distribution of Body ID counts in intervals\n",
        "plt.figure(figsize=(8, 4))  # Set smaller figure size here\n",
        "plt.bar(range(num_intervals), counts_in_intervals, color='skyblue', edgecolor='black')\n",
        "\n",
        "# Add labels and title\n",
        "plt.xlabel('Interval', fontsize=12)\n",
        "plt.ylabel('Number of Body IDs', fontsize=12)\n",
        "plt.title('Distribution of Body ID Value Counts in Intervals', fontsize=14)\n",
        "plt.xticks(range(num_intervals), [f'{interval[0]}-{interval[1]}' for interval in intervals], rotation=45, ha='right')\n",
        "\n",
        "# Show plot\n",
        "plt.tight_layout()\n",
        "plt.show()\n"
      ],
      "metadata": {
        "colab": {
          "base_uri": "https://localhost:8080/",
          "height": 407
        },
        "id": "vAMrd6oaajFQ",
        "outputId": "f5fb0383-a881-41f9-f9d2-877a3b86a472"
      },
      "execution_count": 38,
      "outputs": [
        {
          "output_type": "display_data",
          "data": {
            "text/plain": [
              "<Figure size 800x400 with 1 Axes>"
            ],
            "image/png": "[encoded data removed]"
          },
          "metadata": {}
        }
      ]
    },
    {
      "cell_type": "code",
      "source": [
        "counts_in_intervals"
      ],
      "metadata": {
        "colab": {
          "base_uri": "https://localhost:8080/"
        },
        "id": "x2dlLsgMd9_X",
        "outputId": "886a2656-d226-47cc-db64-5815b7cbef89"
      },
      "execution_count": 39,
      "outputs": [
        {
          "output_type": "execute_result",
          "data": {
            "text/plain": [
              "[795, 421, 239, 114, 57, 29, 16, 7, 4, 1]"
            ]
          },
          "metadata": {},
          "execution_count": 39
        }
      ]
    },
    {
      "cell_type": "code",
      "source": [],
      "metadata": {
        "id": "qzn6Gvd7pnBd"
      },
      "execution_count": null,
      "outputs": []
    },
    {
      "cell_type": "markdown",
      "source": [
        "### Stance"
      ],
      "metadata": {
        "id": "2AI4n52aa2rd"
      }
    },
    {
      "cell_type": "code",
      "source": [
        "merged_data.groupby('Stance').size()"
      ],
      "metadata": {
        "colab": {
          "base_uri": "https://localhost:8080/"
        },
        "id": "6fJj9b7AaGAf",
        "outputId": "0cbdb07f-4a39-4dd6-8c09-832ed8c1ddce"
      },
      "execution_count": 20,
      "outputs": [
        {
          "output_type": "execute_result",
          "data": {
            "text/plain": [
              "Stance\n",
              "agree         3678\n",
              "disagree       840\n",
              "discuss       8909\n",
              "unrelated    36545\n",
              "dtype: int64"
            ]
          },
          "metadata": {},
          "execution_count": 20
        }
      ]
    },
    {
      "cell_type": "code",
      "source": [
        "from matplotlib import pyplot as plt\n",
        "import seaborn as sns\n",
        "merged_data.groupby('Stance').size().plot(kind='barh', color=sns.palettes.mpl_palette('Dark2'))\n",
        "plt.gca().spines[['top', 'right',]].set_visible(False)"
      ],
      "metadata": {
        "colab": {
          "base_uri": "https://localhost:8080/",
          "height": 430
        },
        "id": "i3V9Okf2a6OM",
        "outputId": "a4613508-8c80-4498-aa90-d0b7e7f71b15"
      },
      "execution_count": 21,
      "outputs": [
        {
          "output_type": "display_data",
          "data": {
            "text/plain": [
              "<Figure size 640x480 with 1 Axes>"
            ],
            "image/png": "[encoded data removed]"
          },
          "metadata": {}
        }
      ]
    },
    {
      "cell_type": "code",
      "source": [],
      "metadata": {
        "id": "hq1JrOkUcvmc"
      },
      "execution_count": null,
      "outputs": []
    },
    {
      "cell_type": "code",
      "source": [],
      "metadata": {
        "id": "wHCxsiwlkcXE"
      },
      "execution_count": null,
      "outputs": []
    }
  ]
}